{
 "cells": [
  {
   "metadata": {},
   "cell_type": "markdown",
   "source": "# Normalização e Padronização de Variáveis",
   "id": "8fd134550b1b9ed4"
  },
  {
   "metadata": {},
   "cell_type": "markdown",
   "source": [
    "#### Neste notebook, aplicamos diferentes técnicas de transformação nas variáveis `idade` e `salario` para ajustar suas escalas e distribuições.\n",
    "\n",
    "#### Essas transformações são importantes para algoritmos de machine learning que são sensíveis à magnitude dos dados.\n"
   ],
   "id": "6fc5692d8c637c41"
  },
  {
   "metadata": {},
   "cell_type": "markdown",
   "source": [
    "## 1. Leitura dos Dados\n",
    "Importamos bibliotecas essenciais e carregamos o dataset.\n",
    "\n",
    "-  sklearn.preprocessing para normalizar/padronizar valores\n",
    "- d.set_option('display.width' - define a largura máxima que o Pandas\n",
    "pode usar para exibir uma linha de dados, None - não há limite de largura)\n",
    "-  pd.set_option('display.max_colwidth' - define a largura máxima que o Pandas\n",
    "vai mostrar para o conteúdo das colunas, especialmente se tiver textos longos\n",
    "(como endereços, descrições, etc)\n",
    " - None permite que todo o conteúdo da célula seja exibido\n",
    "- Em resumo está dizendo \"sem limites para exibição, quero ver tudo completinho\"."
   ],
   "id": "acf2337f2a3af915"
  },
  {
   "metadata": {
    "collapsed": true
   },
   "cell_type": "code",
   "outputs": [],
   "execution_count": null,
   "source": [
    "import pandas as pd\n",
    "from sklearn.preprocessing import MinMaxScaler\n",
    "from pathlib import Path\n",
    "\n",
    "pd.set_option('display.width', None)\n",
    "pd.set_option('display.max_colwidth', None)\n",
    "\n",
    "data_path = Path('../data/clientes-v2-tratados.csv')\n",
    "df = pd.read_csv(data_path)\n",
    "\n",
    "print(df.head())"
   ],
   "id": "initial_id"
  },
  {
   "metadata": {},
   "cell_type": "markdown",
   "source": [
    "## 2. Seleção das Variáveis\n",
    "\n",
    "Selecionamos apenas as colunas relevantes para escalonamento: `idade` e `salario`."
   ],
   "id": "95ccfd1c4ea49f24"
  },
  {
   "metadata": {},
   "cell_type": "code",
   "outputs": [],
   "execution_count": null,
   "source": "df = df[['idade', 'salario']]",
   "id": "9c7d696f99f9e32"
  },
  {
   "metadata": {},
   "cell_type": "markdown",
   "source": [
    "## 3. Normalização com MinMaxScaler\n",
    "\n",
    "- MinMaxScaler transforma os valores para um intervalo fixo\n",
    "-  Primeiro para o padrão 0 á 1, depois para -1 á 1(_mm)\n",
    "- Quer dizer que se a menor idade é 18 e a maior é 100, 18 vira 0 e 100 vira 1\n",
    "- Com valores intermediários escalados proporcionalmente"
   ],
   "id": "3aac12d9e2414f08"
  },
  {
   "metadata": {},
   "cell_type": "markdown",
   "source": "#### Escala padrão (0 a 1)",
   "id": "17456911be0c4521"
  },
  {
   "metadata": {},
   "cell_type": "code",
   "outputs": [],
   "execution_count": null,
   "source": [
    "scaler = MinMaxScaler()\n",
    "df['idadeMinMaxScaler'] = scaler.fit_transform(df[['idade']])\n",
    "df['salarioMinMaxScaler'] = scaler.fit_transform(df[['salario']])"
   ],
   "id": "1ba93001818fead4"
  },
  {
   "metadata": {},
   "cell_type": "markdown",
   "source": "#### Escala customizada (-1 a 1)",
   "id": "c1f7fba21e07349"
  },
  {
   "metadata": {},
   "cell_type": "code",
   "outputs": [],
   "execution_count": null,
   "source": [
    "min_max_scaler = MinMaxScaler(feature_range=(-1, 1))\n",
    "df['idadeMinMaxScaler_mm'] = min_max_scaler.fit_transform(df[['idade']])\n",
    "df['salarioMinMaxScaler_mm'] = min_max_scaler.fit_transform(df[['salario']])"
   ],
   "id": "4954896abd781e1f"
  },
  {
   "metadata": {},
   "cell_type": "markdown",
   "source": [
    "## 4. Padronização com StandardScaler\n",
    "\n",
    "- Ele padroniza os dados para que a média fique 0 e o desvio padrão fique 1\n",
    "- Isso é útil quando os algoritmos esperam dados com distribuição normal.\n",
    "- Distribuição normal ou distribuição gaussiana: é aquela curva em formato de sino ^ (bell curve)\n",
    "em que a maioria dos dados está concentrada em torno da média e quanto mais distante da média, menor a frequência.\n",
    "- Exemplos de bell curve: alturas humanas, notas em provas, temperaturas médias.\n",
    "- Os dados que esperam a distribuição normal, são principalmente os lineares e estatísticos,\n",
    "pois funcionam melhor quando os dados têm essa forma"
   ],
   "id": "5cf109f67096b64c"
  },
  {
   "metadata": {},
   "cell_type": "code",
   "outputs": [],
   "execution_count": null,
   "source": "from sklearn.preprocessing import StandardScaler",
   "id": "8cca5295199dd66b"
  },
  {
   "metadata": {},
   "cell_type": "code",
   "outputs": [],
   "execution_count": null,
   "source": [
    "scaler = StandardScaler()\n",
    "df['idadeStandardScaler'] = scaler.fit_transform(df[['idade']])\n",
    "df['salarioStandardScaler'] = scaler.fit_transform(df[['salario']])"
   ],
   "id": "b536e1a1df11b44a"
  },
  {
   "metadata": {},
   "cell_type": "markdown",
   "source": [
    "## 5. Padronização com RobustScaler\n",
    "\n",
    "- Com RobustScaler dá para obter uma distribuição mais equilibrada dos dados quando há outliers\n",
    "ele é usado para análises onde valores extremos não devem dominar o comportamento dos algoritmos.\n",
    "- O RobustScaler usa a mediana e o intervalo interquartil (IQR)\n",
    "que é o intervalo entre os quartis 25% (Q1) e 75% (Q3), assim os dados\n",
    "são centrados na mediana, e os valores normais têm espaço proporcional."
   ],
   "id": "81827d06d3389a0f"
  },
  {
   "metadata": {},
   "cell_type": "code",
   "outputs": [],
   "execution_count": null,
   "source": "from sklearn.preprocessing import RobustScaler",
   "id": "10c3aba4b71fc7e4"
  },
  {
   "metadata": {},
   "cell_type": "code",
   "outputs": [],
   "execution_count": null,
   "source": [
    "scaler = RobustScaler()\n",
    "df['idadeRobustScaler'] = scaler.fit_transform(df[['idade']])\n",
    "df['salarioRobustScaler'] = scaler.fit_transform(df[['salario']])"
   ],
   "id": "afabd960aa91e412"
  },
  {
   "metadata": {},
   "cell_type": "markdown",
   "source": [
    "## 6. Visualização dos Resultados\n",
    "\n",
    "Exibe os primeiros 15 registros para comparar visualmente os efeitos de cada transformação.\n",
    "Isso ajuda a entender como cada técnica altera os valores originais."
   ],
   "id": "b752090eab51cad2"
  },
  {
   "metadata": {},
   "cell_type": "code",
   "outputs": [],
   "execution_count": null,
   "source": "print(df.head(15))",
   "id": "ccd21ceef1c56842"
  },
  {
   "metadata": {},
   "cell_type": "markdown",
   "source": [
    "## 7. Estatísticas das Transformações\n",
    "\n",
    "- Calculamos estatísticas básicas (mínimo, máximo, média, desvio padrão) para cada técnica\n",
    "-  Isso permite avaliar se os objetivos de cada transformação foram atingidos\n",
    "- Por exemplo, StandardScaler deve ter média próxima de 0 e desvio padrão próximo de 1"
   ],
   "id": "46a1b7403e0e6be4"
  },
  {
   "metadata": {},
   "cell_type": "code",
   "outputs": [],
   "execution_count": null,
   "source": "print('MinMaxScaler (De 0 a 1):')",
   "id": "3f5c0abf638f55a2"
  },
  {
   "metadata": {},
   "cell_type": "code",
   "outputs": [],
   "execution_count": null,
   "source": [
    "print('Idade - Min: {:.4f} Max: {:.4f} Mean: {:.4f} Std: {:.4f}'.format(\n",
    "    df['idadeMinMaxScaler'].min(),\n",
    "    df['idadeMinMaxScaler'].max(),\n",
    "    df['idadeMinMaxScaler'].mean(),\n",
    "    df['idadeMinMaxScaler'].std()\n",
    "))"
   ],
   "id": "e85d0139408a1cea"
  },
  {
   "metadata": {},
   "cell_type": "code",
   "outputs": [],
   "execution_count": null,
   "source": [
    "print('Salário - Min: {:.4f} Max: {:.4f} Mean: {:.4f} Std: {:.4f}'.format(\n",
    "    df['salarioMinMaxScaler'].min(),\n",
    "    df['salarioMinMaxScaler'].max(),\n",
    "    df['salarioMinMaxScaler'].mean(),\n",
    "    df['salarioMinMaxScaler'].std()\n",
    "))\n"
   ],
   "id": "3f2c4691683fac56"
  },
  {
   "metadata": {},
   "cell_type": "code",
   "outputs": [],
   "execution_count": null,
   "source": "print('\\n MinMaxScaler (De -1 a 1):')",
   "id": "621494b9fdb33b3d"
  },
  {
   "metadata": {},
   "cell_type": "code",
   "outputs": [],
   "execution_count": null,
   "source": [
    "print('Idade - Min: {:.4f} Max: {:.4f} Mean: {:.4f} Std: {:.4f}'.format(\n",
    "    df['idadeMinMaxScaler_mm'].min(),\n",
    "    df['idadeMinMaxScaler_mm'].max(),\n",
    "    df['idadeMinMaxScaler_mm'].mean(),\n",
    "    df['idadeMinMaxScaler_mm'].std()\n",
    "))"
   ],
   "id": "c824032222de9d93"
  },
  {
   "metadata": {},
   "cell_type": "code",
   "outputs": [],
   "execution_count": null,
   "source": [
    "print('Salário - Min: {:.4f} Max: {:.4f} Mean: {:.4f} Std: {:.4f}'.format(\n",
    "    df['salarioMinMaxScaler'].min(),\n",
    "    df['salarioMinMaxScaler_mm'].max(),\n",
    "    df['salarioMinMaxScaler_mm'].mean(),\n",
    "    df['salarioMinMaxScaler_mm'].std()\n",
    "))"
   ],
   "id": "2333c99d4ad96a17"
  },
  {
   "metadata": {},
   "cell_type": "code",
   "outputs": [],
   "execution_count": null,
   "source": "print('\\n StandardScaler (Ajuste a média a 0 e desvio padrão a 1):')",
   "id": "b02e468389e2c510"
  },
  {
   "metadata": {},
   "cell_type": "code",
   "outputs": [],
   "execution_count": null,
   "source": [
    "print('Idade - Min: {:.4f} Max: {:.4f} Mean: {:.18f} Std: {:.4f}'.format(\n",
    "    df['idadeStandardScaler'].min(),\n",
    "    df['idadeStandardScaler'].max(),\n",
    "    df['idadeStandardScaler'].mean(),\n",
    "    df['idadeStandardScaler'].std()\n",
    "))"
   ],
   "id": "3ad05bec6d6c5d94"
  },
  {
   "metadata": {},
   "cell_type": "code",
   "outputs": [],
   "execution_count": null,
   "source": [
    "print('Salário - Min: {:.4f} Max: {:.4f} Mean: {:.18f} Std: {:.4f}'.format(\n",
    "    df['salarioStandardScaler'].min(),\n",
    "    df['salarioStandardScaler'].max(),\n",
    "    df['salarioStandardScaler'].mean(),\n",
    "    df['salarioStandardScaler'].std()\n",
    "))"
   ],
   "id": "e6ccf818eee8bab0"
  },
  {
   "metadata": {},
   "cell_type": "code",
   "outputs": [],
   "execution_count": null,
   "source": "print('\\nRobustScaler (Ajuste a mediana e IQR):')",
   "id": "fb2ed69b68b9a4a1"
  },
  {
   "metadata": {},
   "cell_type": "code",
   "outputs": [],
   "execution_count": null,
   "source": [
    "print('Idade - Min: {:.4f} Max: {:.4f} Mean: {:.4f} Std: {:.4f}'.format(\n",
    "    df['idadeRobustScaler'].min(),\n",
    "    df['idadeRobustScaler'].max(),\n",
    "    df['idadeRobustScaler'].mean(),\n",
    "    df['idadeRobustScaler'].std()\n",
    "))"
   ],
   "id": "76fd320fbfe37c0c"
  },
  {
   "metadata": {},
   "cell_type": "code",
   "outputs": [],
   "execution_count": null,
   "source": [
    "print('Salário - Min: {:.4f} Max: {:.4f} Mean: {:.4f} Std: {:.4f}'.format(\n",
    "    df['salarioRobustScaler'].min(),\n",
    "    df['salarioRobustScaler'].max(),\n",
    "    df['salarioRobustScaler'].mean(),\n",
    "    df['salarioRobustScaler'].std()\n",
    "))"
   ],
   "id": "9e675a3d0fc43438"
  },
  {
   "metadata": {},
   "cell_type": "markdown",
   "source": [
    "### Considerações Técnicas\n",
    "\n",
    "- A escolha da técnica de escalonamento depende do algoritmo de machine learning que será utilizado.\n",
    "- Algoritmos baseados em distância (como KNN e SVM) são sensíveis à escala dos dados.\n",
    "- Sempre é recomendável aplicar escalonamento **após** a separação entre treino e teste, para evitar vazamento de dados.\n",
    "- Em pipelines reais, essas transformações são aplicadas com `fit` no conjunto de treino e `transform` no conjunto de teste.\n",
    "\n",
    "#### Algoritmos que preferem dados normalizados\n",
    "- Regressão Linear: Assumem que os erros são normalmente distribuídos\n",
    "- KNN (K-Nearest Neighbors): Sensível à escala e dispersão dos dados\n",
    "- PCA (Análise de Componentes Principais): Calcula variâncias; assume simetria nos dados\n",
    "- SVM (Support Vector Machines): Usa distância e margem — distribuição ajuda na definição\n",
    "- Redes Neurais (em alguns casos): Melhor desempenho quando entradas são centradas e padronizadas"
   ],
   "id": "8360f36d6772e745"
  }
 ],
 "metadata": {
  "kernelspec": {
   "display_name": "Python 3",
   "language": "python",
   "name": "python3"
  },
  "language_info": {
   "codemirror_mode": {
    "name": "ipython",
    "version": 2
   },
   "file_extension": ".py",
   "mimetype": "text/x-python",
   "name": "python",
   "nbconvert_exporter": "python",
   "pygments_lexer": "ipython2",
   "version": "2.7.6"
  }
 },
 "nbformat": 4,
 "nbformat_minor": 5
}
