{
 "cells": [
  {
   "metadata": {},
   "cell_type": "markdown",
   "source": "# Codificação de Variáveis Categóricas",
   "id": "456a5be621352357"
  },
  {
   "metadata": {},
   "cell_type": "markdown",
   "source": "#### Neste notebook, aplicamos diferentes técnicas de codificação para transformar variáveis categóricas em representações numéricas. Isso é necessário para que algoritmos de machine learning possam interpretar essas variáveis corretamente.",
   "id": "ad3c436478038ecb"
  },
  {
   "metadata": {},
   "cell_type": "markdown",
   "source": [
    "## 1. Leitura dos\n",
    "\n",
    "Importamos bibliotecas essenciais e carregamos o dataset tratado."
   ],
   "id": "3d921c4187713f11"
  },
  {
   "metadata": {
    "collapsed": true
   },
   "cell_type": "code",
   "outputs": [],
   "execution_count": null,
   "source": [
    "import pandas as pd\n",
    "from pathlib import Path\n",
    "\n",
    "pd.set_option('display.width', None)\n",
    "\n",
    "data_path = Path('../data/clientes-v2-tratados.csv')\n",
    "df = pd.read_csv(data_path)\n",
    "\n",
    "print(df.head())"
   ],
   "id": "initial_id"
  },
  {
   "metadata": {},
   "cell_type": "markdown",
   "source": [
    "C##  2. Codificação One-Hot (estado_civil)\n",
    "\n",
    "- Cria uma coluna binária para cada categoria.\n",
    "- Evita atribuição de variáveis nominais sem ordem."
   ],
   "id": "7f39fad5e8e3eab3"
  },
  {
   "metadata": {},
   "cell_type": "code",
   "outputs": [],
   "execution_count": null,
   "source": [
    "df = pd.concat([df, pd.get_dummies(df['estado_civil'], prefix='estado_civil')], axis=1)\n",
    "\n",
    "print(\"\\nDataFrame após codificação one-hot para 'estado_civil':\\n\", df.head())"
   ],
   "id": "5e331b723aa04a93"
  },
  {
   "metadata": {},
   "cell_type": "markdown",
   "source": [
    "## 3. Codificação Ordinal (nivel_educacao)\n",
    "\n",
    "- Atribui valores numéricos com base em uma ordem lógica.\n",
    "- Aqui, assumimos que 'Pós-graduação' > 'Ensino Superior' > 'Ensino Médio' > 'Ensino Fundamental'."
   ],
   "id": "1ce8654a239b1402"
  },
  {
   "metadata": {},
   "cell_type": "code",
   "outputs": [],
   "execution_count": null,
   "source": [
    "educacao_ordem = {\n",
    "    'Ensino Fundamental': 1,\n",
    "    'Ensino Médio': 2,\n",
    "    'Ensino Superior': 3,\n",
    "    'Pós-graduação': 4\n",
    "}\n",
    "df['nivel_educacao_ordinal'] = df['nivel_educacao'].map(educacao_ordem)\n",
    "\n",
    "print(\"\\nDataFrame após codificação ordinal para 'nivel_educacao':\\n\", df.head())"
   ],
   "id": "8f662cca28b41f94"
  },
  {
   "metadata": {},
   "cell_type": "markdown",
   "source": [
    "## 4. Codificação com .cat.codes (area_atuacao)\n",
    "\n",
    "- Converte a variável em tipo 'category' e aplica códigos numéricos.\n",
    "- Útil para representar categorias sem ordem explícita"
   ],
   "id": "7bdbc594966234c0"
  },
  {
   "metadata": {},
   "cell_type": "code",
   "outputs": [],
   "execution_count": null,
   "source": [
    "df['area_atuacao_cod'] = df['area_atuacao'].astype('category').cat.codes\n",
    "\n",
    "print(\"\\nDataFrame após transformar 'area_atuacao' em códigos numéricos:\\n\", df.head())"
   ],
   "id": "9db892f3d985825e"
  },
  {
   "metadata": {},
   "cell_type": "markdown",
   "source": "## 5. Codificação com LabelEncoder (estado)",
   "id": "dccfc6f11ca72018"
  },
  {
   "metadata": {},
   "cell_type": "code",
   "outputs": [],
   "execution_count": null,
   "source": "from sklearn.preprocessing import LabelEncoder",
   "id": "eab8b9228427cb2e"
  },
  {
   "metadata": {},
   "cell_type": "markdown",
   "source": [
    "- LabelEncoder atribui um número inteiro para cada categoria.\n",
    "- LabelEncoder converte cada valor único em números de 0 a n_classes-1\n",
    "- Pode ser problemático em variáveis nominais, pois impõe uma ordem artificial."
   ],
   "id": "98af17adcd1749ba"
  },
  {
   "metadata": {},
   "cell_type": "code",
   "outputs": [],
   "execution_count": null,
   "source": [
    "label_encoder = LabelEncoder()\n",
    "df['estado_cod'] = label_encoder.fit_transform(df['estado'])\n",
    "\n",
    "print(\"\\nDataFrame após aplicar LabelEncoder em 'estado':\\n\", df.head())"
   ],
   "id": "7cf452150e5fbcd0"
  },
  {
   "metadata": {},
   "cell_type": "markdown",
   "source": [
    "## Considerações Técnicas\n",
    "\n",
    "- A escolha da técnica de codificação depende do tipo de variável e do modelo que será utilizado.\n",
    "- One-hot encoding é ideal para variáveis nominais sem ordem.\n",
    "- Codificação ordinal deve ser usada apenas quando há hierarquia clara entre categorias.\n",
    "- LabelEncoder pode ser útil, mas deve ser usado com cautela em variáveis nominais.\n",
    "- `.cat.codes` é uma alternativa leve para codificação simples, mas não preserva ordem.\n",
    "\n",
    "\n",
    "\n",
    "> Em modelos baseados em árvore (Random Forest, XGBoost), codificações numéricas funcionam bem.\n",
    "> Em modelos lineares, one-hot encoding costuma ser mais eficaz."
   ],
   "id": "8e6f60bcddb09551"
  }
 ],
 "metadata": {
  "kernelspec": {
   "display_name": "Python 3",
   "language": "python",
   "name": "python3"
  },
  "language_info": {
   "codemirror_mode": {
    "name": "ipython",
    "version": 2
   },
   "file_extension": ".py",
   "mimetype": "text/x-python",
   "name": "python",
   "nbconvert_exporter": "python",
   "pygments_lexer": "ipython2",
   "version": "2.7.6"
  }
 },
 "nbformat": 4,
 "nbformat_minor": 5
}
