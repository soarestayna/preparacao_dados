{
 "cells": [
  {
   "metadata": {},
   "cell_type": "markdown",
   "source": [
    "# Preparação de Dados - Análise Exploratória\n",
    "\n",
    "### Este notebook faz parte do portfólio acadêmico do curso de Análise de Dados - EBAC.\n"
   ],
   "id": "c693fd622ec3463f"
  },
  {
   "metadata": {},
   "cell_type": "markdown",
   "source": [
    "#### Aqui realizamos a limpeza e estruturação inicial do dataset `clientes-v2.csv`.\n",
    "#### Isso inclui leitura, conversão de tipos, tratamento de valores nulos e duplicados, além de uma análise estatística inicial."
   ],
   "id": "e86276d92411584a"
  },
  {
   "metadata": {},
   "cell_type": "markdown",
   "source": [
    "## 1. Leitura dos Dados\n",
    "Importamos bibliotecas essenciais e carregamos o dataset."
   ],
   "id": "182432dd1f705693"
  },
  {
   "metadata": {},
   "cell_type": "code",
   "outputs": [],
   "execution_count": null,
   "source": [
    "\n",
    "import pandas as pd\n",
    "from pathlib import Path\n",
    "\n",
    "data_path = Path('../data/clientes-v2.csv')\n",
    "df = pd.read_csv(data_path)\n",
    "\n",
    "df.head()\n",
    "\n"
   ],
   "id": "bb51765f8b4a7b33"
  },
  {
   "metadata": {},
   "cell_type": "markdown",
   "source": [
    "### Exibição das primeiras e últimas linhas completas do DataFrame\n",
    "- `head()` - mostra as 5 primeiras linhas da tabela.\n",
    "- `tail()` - mostra as 5 últimas linhas.\n",
    "- `to_string()` - garante que a visualização seja completa no terminal (sem cortes)."
   ],
   "id": "32ec79f613210d5c"
  },
  {
   "metadata": {},
   "cell_type": "code",
   "outputs": [],
   "execution_count": null,
   "source": [
    "print(df.head().to_string())\n",
    "print(df.tail().to_string())"
   ],
   "id": "c94f35180621c8e2"
  },
  {
   "metadata": {},
   "cell_type": "markdown",
   "source": [
    "## 2. Conversão de Datas\n",
    "Convertendo a coluna data para o tipo datetime, usando o formato dia/mês/ano.\n",
    "\n",
    "- `errors='coerce`' - transforma datas inválidas em NaT (Not a Time).\n",
    "- NaT - Not a Time é um valor nulo para dados de data e hora no Pandas, assim como NaN - Not a Number em números, NaT é um dado ausente ou inválido."
   ],
   "id": "48cb09a869c00291"
  },
  {
   "metadata": {},
   "cell_type": "code",
   "outputs": [],
   "execution_count": null,
   "source": "df['data'] = pd.to_datetime(df['data'], format='%d/%m/%Y', errors='coerce')",
   "id": "468608bdf717793b"
  },
  {
   "metadata": {},
   "cell_type": "markdown",
   "source": [
    "## 3. Verificação Inicial\n",
    "Verificação dos tipos de dados, quantidade de linhas e colunas e valores nulos.\n",
    "\n",
    "`info()` - mostra detalhes como quantidade de linha e colunas,\n",
    "o tipo de dado e quantidade de valores nulos."
   ],
   "id": "607ff6fd248e826c"
  },
  {
   "metadata": {},
   "cell_type": "code",
   "outputs": [],
   "execution_count": null,
   "source": "df.info()",
   "id": "c13cf5e54254539"
  },
  {
   "metadata": {},
   "cell_type": "markdown",
   "source": [
    "## 4. Análise de Dados Nulos\n",
    "Identificação e porcentagem de valores nulos por coluna\n",
    "\n",
    "- `isnull()` - identifica quais células estão nulas.\n",
    "- `sum().sum()` - soma dos valores nulos em todo o DataFrame.\n",
    "- `mean()` * 100 - calcula a porcentagem de valores nulos por coluna."
   ],
   "id": "6f13d2329ae10285"
  },
  {
   "metadata": {},
   "cell_type": "code",
   "outputs": [],
   "execution_count": null,
   "source": [
    "print('Total de dados nulos:', df.isnull().sum().sum())\n",
    "print('Porcentagem de dados nulos por coluna:\\n', df.isnull().mean() * 100)"
   ],
   "id": "95cf2106c103ecf8"
  },
  {
   "metadata": {},
   "cell_type": "markdown",
   "source": [
    "### Remoção de Dados Nulos\n",
    "\n",
    "`inplace=True` - altera o df diretamente."
   ],
   "id": "601fe79db36bb856"
  },
  {
   "metadata": {},
   "cell_type": "code",
   "outputs": [],
   "execution_count": null,
   "source": [
    "df.dropna(inplace=True)\n",
    "print('Dados nulos após remoção:', df.isnull().sum().sum())"
   ],
   "id": "e3d67c33592a567b"
  },
  {
   "metadata": {},
   "cell_type": "markdown",
   "source": [
    "## 5. Análise de Duplicatas e Unicidade\n",
    "\n",
    "- `duplicated()` - retorna uma série booleana indicando se cada linha é uma duplicata de uma anterior.\n",
    "- `sum()` - conta quantas linhas são duplicadas no DataFrame.\n",
    "- Útil para identificar redundâncias que podem distorcer análises estatísticas.\n",
    "- `nunique()` - retorna o número de valores únicos por coluna."
   ],
   "id": "a936e16422ade0b5"
  },
  {
   "metadata": {},
   "cell_type": "code",
   "outputs": [],
   "execution_count": null,
   "source": [
    "print('Linhas duplicadas:', df.duplicated().sum())\n",
    "print('Valores únicos por coluna:\\n', df.nunique())"
   ],
   "id": "674ba1a2af5a9c48"
  },
  {
   "metadata": {},
   "cell_type": "markdown",
   "source": [
    "## 6. Estatísticas Descritivas\n",
    "\n",
    "- `describe()` - gera estatísticas descritivas para colunas numéricas por padrão.\n",
    "- Inclui contagem, média, desvio padrão, valores mínimos, máximos e quartis.\n",
    "- Dá para entender a distribuição e detectar outliers ou variáveis com baixa variância."
   ],
   "id": "52ebfb46d47d96fa"
  },
  {
   "metadata": {},
   "cell_type": "code",
   "outputs": [],
   "execution_count": null,
   "source": "df.describe()",
   "id": "70fff379a1b56462"
  },
  {
   "metadata": {},
   "cell_type": "markdown",
   "source": [
    "## 7. Seleção de Colunas Relevantes\n",
    "Mantemos apenas as colunas úteis para a análise posterior."
   ],
   "id": "68259e57c0858541"
  },
  {
   "metadata": {},
   "cell_type": "code",
   "outputs": [],
   "execution_count": null,
   "source": [
    "df = df[['idade', 'data', 'estado', 'salario', 'nivel_educacao', 'numero_filhos', 'estado_civil', 'area_atuacao']]\n",
    "df.head()"
   ],
   "id": "5e39c6a5e3c18765"
  },
  {
   "metadata": {},
   "cell_type": "markdown",
   "source": [
    "## 8. Salvando o DataFrame Tratado\n",
    "\n",
    "- `to_csv()`  - salva o DataFrame em um arquivo CSV.\n",
    "- `index=False` - evita que o índice número do DataFrame seja salvo como uma coluna no arquivo.\n"
   ],
   "id": "83c4839f0deace2c"
  },
  {
   "metadata": {},
   "cell_type": "code",
   "outputs": [],
   "execution_count": null,
   "source": "df.to_csv('clientes-v2-tratados.csv', index=False)",
   "id": "f00a5c503b4376dc"
  }
 ],
 "metadata": {
  "kernelspec": {
   "display_name": "Python 3",
   "language": "python",
   "name": "python3"
  },
  "language_info": {
   "codemirror_mode": {
    "name": "ipython",
    "version": 2
   },
   "file_extension": ".py",
   "mimetype": "text/x-python",
   "name": "python",
   "nbconvert_exporter": "python",
   "pygments_lexer": "ipython2",
   "version": "2.7.6"
  }
 },
 "nbformat": 4,
 "nbformat_minor": 5
}
