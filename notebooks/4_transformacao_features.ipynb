{
 "cells": [
  {
   "metadata": {},
   "cell_type": "markdown",
   "source": "# Transformações Avançadas de Atributos",
   "id": "da18703d091baa69"
  },
  {
   "metadata": {},
   "cell_type": "markdown",
   "source": "#### Neste notebook, aplicamos técnicas de transformação de variáveis numéricas e categóricas, além de criar interações entre atributos. Essas estratégias são fundamentais para melhorar a qualidade dos dados e a performance dos modelos.",
   "id": "857c9b2ce34f6bb0"
  },
  {
   "metadata": {},
   "cell_type": "markdown",
   "source": [
    "## 1. Leitura dos Dados\n",
    "\n",
    "Importamos bibliotecas e carregamos o dataset tratado."
   ],
   "id": "3ab221f97e388f16"
  },
  {
   "metadata": {},
   "cell_type": "code",
   "outputs": [],
   "execution_count": null,
   "source": [
    "import pandas as pd\n",
    "import numpy as np\n",
    "from scipy import stats\n",
    "from pathlib import Path\n",
    "\n",
    "pd.set_option('display.width', None)\n",
    "\n",
    "data_path = Path('../data/clientes-v2-tratados.csv')\n",
    "df = pd.read_csv(data_path)\n",
    "\n",
    "print(df.head())"
   ],
   "id": "526d95bf7b86e8fa"
  },
  {
   "metadata": {},
   "cell_type": "markdown",
   "source": [
    "## 2. Transformação Logarítmica (salario)\n",
    "\n",
    "- A transformação logarítmica reduz a assimetria de distribuições enviesadas.\n",
    "- log1p(x) = log(1 + x), evita problemas com valores zero."
   ],
   "id": "c5482eada822aa12"
  },
  {
   "metadata": {},
   "cell_type": "code",
   "outputs": [],
   "execution_count": null,
   "source": [
    "df['salario_log'] = np.log1p(df['salario'])\n",
    "\n",
    "print(\"\\nDataFrame após transformação logarítmica no 'salario':\\n\", df.head())"
   ],
   "id": "26ded3a9fbad2fcb"
  },
  {
   "metadata": {},
   "cell_type": "markdown",
   "source": [
    "## 3. Transformação Box-Cox (salario)\n",
    "\n",
    "- Box-Cox transforma dados para aproximar uma distribuição normal.\n",
    "- Adicionamos +1 para evitar problemas com valores zero."
   ],
   "id": "820dcaa6c9ea2c07"
  },
  {
   "metadata": {},
   "cell_type": "code",
   "outputs": [],
   "execution_count": null,
   "source": [
    "df['salario_boxcox'], _ = stats.boxcox(df['salario'] + 1)\n",
    "\n",
    "print(\"\\nDataFrame após transformação Box-Cox no 'salario':\\n\", df.head())"
   ],
   "id": "d2257f81e72bcdd9"
  },
  {
   "metadata": {},
   "cell_type": "markdown",
   "source": [
    "## 4. Codificação de Frequência (estado)\n",
    "\n",
    "- A codificação de frequência substitui cada categoria pela sua frequência relativa.\n",
    "- Útil para modelos que se beneficiam de informações de prevalência."
   ],
   "id": "2464208d1a727612"
  },
  {
   "metadata": {},
   "cell_type": "code",
   "outputs": [],
   "execution_count": null,
   "source": [
    "estado_freq = df['estado'].value_counts() / len(df)\n",
    "df['estado_freq'] = df['estado'].map(estado_freq)\n",
    "\n",
    "print(\"\\nDataFrame após codificação de frequência para 'estado':\\n\", df.head())"
   ],
   "id": "30d9cd47d6961fac"
  },
  {
   "metadata": {},
   "cell_type": "markdown",
   "source": [
    "## 5. Criação de Interações (idade × numero_filhos)\n",
    "\n",
    "- Interações entre variáveis podem capturar relações não lineares.\n",
    "- Aqui, multiplicamos idade pelo número de filhos."
   ],
   "id": "6be5ad705ccf6b25"
  },
  {
   "metadata": {},
   "cell_type": "code",
   "outputs": [],
   "execution_count": null,
   "source": [
    "df['interacao_idade_filhos'] = df['idade'] * df['numero_filhos']\n",
    "\n",
    "print(\"\\nDataFrame após criação de interações entre 'idade' e 'numero_filhos':\\n\", df.head())\n"
   ],
   "id": "d14d2b5b430b7902"
  },
  {
   "metadata": {},
   "cell_type": "markdown",
   "source": [
    "## Considerações Técnicas\n",
    "\n",
    "- Transformações como log e Box-Cox ajudam a normalizar distribuições, o que é útil para modelos sensíveis à escala e à normalidade (ex: regressão linear).\n",
    "- Codificação de frequência pode ser mais informativa do que LabelEncoder em variáveis categóricas.\n",
    "- Interações entre variáveis são especialmente úteis em modelos lineares, pois capturam efeitos combinados.\n",
    "> Sempre visualize a distribuição antes e depois das transformações para garantir\n",
    "que o efeito desejado foi alcançado.\n"
   ],
   "id": "9ff80aaa01ea4d48"
  }
 ],
 "metadata": {
  "kernelspec": {
   "display_name": "Python 3",
   "language": "python",
   "name": "python3"
  },
  "language_info": {
   "codemirror_mode": {
    "name": "ipython",
    "version": 2
   },
   "file_extension": ".py",
   "mimetype": "text/x-python",
   "name": "python",
   "nbconvert_exporter": "python",
   "pygments_lexer": "ipython2",
   "version": "2.7.6"
  }
 },
 "nbformat": 4,
 "nbformat_minor": 5
}
